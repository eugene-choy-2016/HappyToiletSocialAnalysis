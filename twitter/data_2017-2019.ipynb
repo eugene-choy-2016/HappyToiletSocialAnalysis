{
 "cells": [
  {
   "cell_type": "code",
   "execution_count": 12,
   "metadata": {},
   "outputs": [],
   "source": [
    "from searchtweets import ResultStream, gen_rule_payload, load_credentials, collect_results, write_result_stream\n",
    "import pandas as pd \n",
    "import time"
   ]
  },
  {
   "cell_type": "code",
   "execution_count": 13,
   "metadata": {},
   "outputs": [],
   "source": [
    "premium_search_args = load_credentials(\"./twitter_keys.yaml\",\n",
    "                                       yaml_key=\"search_tweets_premium\",\n",
    "                                       env_overwrite=False)"
   ]
  },
  {
   "cell_type": "code",
   "execution_count": 14,
   "metadata": {},
   "outputs": [],
   "source": [
    "rule_2019 = gen_rule_payload(\"Singapore toilet\", from_date=\"2019-01-01\", \n",
    "                        to_date=\"2019-10-27\",results_per_call=100) \n",
    "rule_2018 = gen_rule_payload(\"Singapore toilet\", from_date=\"2018-01-01\", \n",
    "                        to_date=\"2018-12-31\",results_per_call=100) \n",
    "rule_2017 = gen_rule_payload(\"Singapore toilet\", from_date=\"2017-01-01\", \n",
    "                        to_date=\"2017-12-31\",results_per_call=100) \n"
   ]
  },
  {
   "cell_type": "code",
   "execution_count": 15,
   "metadata": {},
   "outputs": [],
   "source": [
    "result_stream_2019 = ResultStream(rule_payload=rule_2019, max_requests=30, **premium_search_args)\n",
    "result_stream_2018 = ResultStream(rule_payload=rule_2018, max_requests=30, **premium_search_args)\n",
    "result_stream_2017 = ResultStream(rule_payload=rule_2017, max_requests=30, **premium_search_args)"
   ]
  },
  {
   "cell_type": "code",
   "execution_count": null,
   "metadata": {},
   "outputs": [],
   "source": [
    "results_2019 = list(result_stream_2019.stream())\n",
    "time.sleep(60)\n",
    "results_2018 = list(result_stream_2018.stream())\n",
    "time.sleep(60)\n",
    "results_2017 = list(result_stream_2017.stream())"
   ]
  },
  {
   "cell_type": "code",
   "execution_count": 6,
   "metadata": {},
   "outputs": [],
   "source": [
    "df_2019 = pd.DataFrame.from_records(results_2019)\n",
    "df_2018 = pd.DataFrame.from_records(results_2018)\n",
    "df_2017 = pd.DataFrame.from_records(results_2017)\n",
    "df_final = pd.concat([df_2019,df_2018, df_2017], axis=0)"
   ]
  },
  {
   "cell_type": "code",
   "execution_count": 9,
   "metadata": {},
   "outputs": [],
   "source": [
    "results_formatted = df_final[['created_at', 'id_str','text', 'reply_count', 'retweeted', 'retweet_count', 'retweeted_status']].copy()"
   ]
  },
  {
   "cell_type": "code",
   "execution_count": 97,
   "metadata": {},
   "outputs": [],
   "source": [
    "results_formatted.to_csv(\"twitter_result_2017_2019.csv\",index=False)"
   ]
  },
  {
   "cell_type": "code",
   "execution_count": null,
   "metadata": {},
   "outputs": [],
   "source": []
  }
 ],
 "metadata": {
  "kernelspec": {
   "display_name": "Python 3",
   "language": "python",
   "name": "python3"
  },
  "language_info": {
   "codemirror_mode": {
    "name": "ipython",
    "version": 3
   },
   "file_extension": ".py",
   "mimetype": "text/x-python",
   "name": "python",
   "nbconvert_exporter": "python",
   "pygments_lexer": "ipython3",
   "version": "3.7.1"
  }
 },
 "nbformat": 4,
 "nbformat_minor": 2
}
