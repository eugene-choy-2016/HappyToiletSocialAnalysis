{
 "cells": [
  {
   "cell_type": "code",
   "execution_count": 5,
   "metadata": {},
   "outputs": [
    {
     "name": "stderr",
     "output_type": "stream",
     "text": [
      "[nltk_data] Downloading package wordnet to\n",
      "[nltk_data]     /Users/Cielseal/nltk_data...\n",
      "[nltk_data]   Package wordnet is already up-to-date!\n"
     ]
    },
    {
     "data": {
      "text/plain": [
       "True"
      ]
     },
     "execution_count": 5,
     "metadata": {},
     "output_type": "execute_result"
    }
   ],
   "source": [
    "#Loading gensim and nltk libraries\n",
    "import pandas as pd\n",
    "import gensim\n",
    "from gensim.utils import simple_preprocess\n",
    "from gensim.parsing.preprocessing import STOPWORDS\n",
    "from nltk.stem import WordNetLemmatizer\n",
    "from nltk.stem import SnowballStemmer\n",
    "from nltk.stem.porter import *\n",
    "import numpy as np\n",
    "from gensim.models.coherencemodel import CoherenceModel\n",
    "from gensim.models.ldamodel import LdaModel\n",
    "np.random.seed(2018)\n",
    "import nltk\n",
    "nltk.download('wordnet')"
   ]
  },
  {
   "cell_type": "code",
   "execution_count": 3,
   "metadata": {},
   "outputs": [],
   "source": [
    "#method for lemmatization and stemming\n",
    "def preprocess(text):\n",
    "    try:\n",
    "        result = []\n",
    "        for token in gensim.utils.simple_preprocess(text):\n",
    "            if token not in gensim.parsing.preprocessing.STOPWORDS and len(token) > 3:\n",
    "                result.append(lemmatize_stemming(token))\n",
    "        #print(result)\n",
    "        return result\n",
    "    except:\n",
    "        return []\n",
    "def lemmatize_stemming(text):\n",
    "    stemmer = SnowballStemmer(\"english\")\n",
    "    return stemmer.stem(WordNetLemmatizer().lemmatize(text, pos='v'))\n"
   ]
  },
  {
   "cell_type": "code",
   "execution_count": 6,
   "metadata": {},
   "outputs": [
    {
     "data": {
      "text/html": [
       "<div>\n",
       "<style scoped>\n",
       "    .dataframe tbody tr th:only-of-type {\n",
       "        vertical-align: middle;\n",
       "    }\n",
       "\n",
       "    .dataframe tbody tr th {\n",
       "        vertical-align: top;\n",
       "    }\n",
       "\n",
       "    .dataframe thead th {\n",
       "        text-align: right;\n",
       "    }\n",
       "</style>\n",
       "<table border=\"1\" class=\"dataframe\">\n",
       "  <thead>\n",
       "    <tr style=\"text-align: right;\">\n",
       "      <th></th>\n",
       "      <th>created_at</th>\n",
       "      <th>id_str</th>\n",
       "      <th>text</th>\n",
       "      <th>reply_count</th>\n",
       "      <th>retweeted</th>\n",
       "      <th>retweet_count</th>\n",
       "      <th>retweeted_status</th>\n",
       "    </tr>\n",
       "  </thead>\n",
       "  <tbody>\n",
       "    <tr>\n",
       "      <th>0</th>\n",
       "      <td>Sat Oct 26 19:17:28 +0000 2019</td>\n",
       "      <td>1188172812021915650</td>\n",
       "      <td>RT @up_again: I’d say EU were on the money.......</td>\n",
       "      <td>0</td>\n",
       "      <td>False</td>\n",
       "      <td>0</td>\n",
       "      <td>{'created_at': 'Sat Oct 26 13:43:59 +0000 2019...</td>\n",
       "    </tr>\n",
       "    <tr>\n",
       "      <th>1</th>\n",
       "      <td>Sat Oct 26 18:43:17 +0000 2019</td>\n",
       "      <td>1188164209965580288</td>\n",
       "      <td>Korang tahu tak, dekat singapore kita boleh ke...</td>\n",
       "      <td>0</td>\n",
       "      <td>False</td>\n",
       "      <td>0</td>\n",
       "      <td>NaN</td>\n",
       "    </tr>\n",
       "    <tr>\n",
       "      <th>2</th>\n",
       "      <td>Sat Oct 26 13:45:03 +0000 2019</td>\n",
       "      <td>1188089157547151361</td>\n",
       "      <td>RT @up_again: I’d say EU were on the money.......</td>\n",
       "      <td>0</td>\n",
       "      <td>False</td>\n",
       "      <td>0</td>\n",
       "      <td>{'created_at': 'Sat Oct 26 13:43:59 +0000 2019...</td>\n",
       "    </tr>\n",
       "  </tbody>\n",
       "</table>\n",
       "</div>"
      ],
      "text/plain": [
       "                       created_at               id_str  \\\n",
       "0  Sat Oct 26 19:17:28 +0000 2019  1188172812021915650   \n",
       "1  Sat Oct 26 18:43:17 +0000 2019  1188164209965580288   \n",
       "2  Sat Oct 26 13:45:03 +0000 2019  1188089157547151361   \n",
       "\n",
       "                                                text  reply_count  retweeted  \\\n",
       "0  RT @up_again: I’d say EU were on the money.......            0      False   \n",
       "1  Korang tahu tak, dekat singapore kita boleh ke...            0      False   \n",
       "2  RT @up_again: I’d say EU were on the money.......            0      False   \n",
       "\n",
       "   retweet_count                                   retweeted_status  \n",
       "0              0  {'created_at': 'Sat Oct 26 13:43:59 +0000 2019...  \n",
       "1              0                                                NaN  \n",
       "2              0  {'created_at': 'Sat Oct 26 13:43:59 +0000 2019...  "
      ]
     },
     "execution_count": 6,
     "metadata": {},
     "output_type": "execute_result"
    }
   ],
   "source": [
    "posts = pd.read_csv('twitter_post_3years.csv')\n",
    "posts.head(3)"
   ]
  },
  {
   "cell_type": "code",
   "execution_count": 7,
   "metadata": {
    "scrolled": true
   },
   "outputs": [
    {
     "name": "stdout",
     "output_type": "stream",
     "text": [
      "Pre-processing is done.\n"
     ]
    }
   ],
   "source": [
    "posts['text_original'] = posts['text']\n",
    "posts['text'] = posts['text'].map(preprocess)\n",
    "print('Pre-processing is done.')"
   ]
  },
  {
   "cell_type": "code",
   "execution_count": 12,
   "metadata": {},
   "outputs": [
    {
     "name": "stdout",
     "output_type": "stream",
     "text": [
      "0 cleaner\n",
      "1 ladi\n",
      "2 lock\n",
      "3 money\n",
      "4 roll\n",
      "5 singapor\n",
      "6 steal\n",
      "7 toilet\n",
      "8 up_again\n",
      "9 work\n",
      "10 boleh\n",
      "Dictionary is built.\n"
     ]
    }
   ],
   "source": [
    "#building dictionary and corpus for LDA\n",
    "dictionary = gensim.corpora.Dictionary(posts['text'])\n",
    "corpus = [dictionary.doc2bow(text) for text in posts['text']]\n",
    "count = 0\n",
    "for k, v in dictionary.iteritems():\n",
    "    print(k, v)\n",
    "    count += 1\n",
    "    if count > 10:\n",
    "        break\n",
    "print('Dictionary is built.')"
   ]
  },
  {
   "cell_type": "code",
   "execution_count": 14,
   "metadata": {},
   "outputs": [
    {
     "name": "stdout",
     "output_type": "stream",
     "text": [
      "[(0, 0.34115345727435353),\n",
      " (1, 0.3032200000475134),\n",
      " (2, 0.4313315984363609),\n",
      " (3, 0.3477685634163955),\n",
      " (4, 0.3477685634163955),\n",
      " (5, 0.03162879046764344),\n",
      " (6, 0.23334162788186957),\n",
      " (7, 0.02216048824642943),\n",
      " (8, 0.4594733429230114),\n",
      " (9, 0.31093973558343124)]\n"
     ]
    }
   ],
   "source": [
    "#Generate Bag of Words on the data set\n",
    "bow_corpus = [dictionary.doc2bow(text) for text in posts['text']]\n",
    "#generate TFIDF matrix\n",
    "from gensim import corpora, models\n",
    "tfidf = models.TfidfModel(bow_corpus)\n",
    "corpus_tfidf = tfidf[bow_corpus]\n",
    "from pprint import pprint\n",
    "for doc in corpus_tfidf:\n",
    "    pprint(doc)\n",
    "    break"
   ]
  },
  {
   "cell_type": "code",
   "execution_count": 15,
   "metadata": {},
   "outputs": [],
   "source": [
    "def compute_coherence_values(dictionary, corpus, texts, limit, start, step, coherence):\n",
    "    \"\"\"\n",
    "    Compute c_v coherence for various number of topics\n",
    "\n",
    "    Parameters:\n",
    "    ----------\n",
    "    dictionary : Gensim dictionary\n",
    "    corpus : Gensim corpus\n",
    "    texts : List of input texts\n",
    "    limit : Max num of topics\n",
    "\n",
    "    Returns:\n",
    "    -------\n",
    "    model_list : List of LDA topic models\n",
    "    coherence_values : Coherence values corresponding to the LDA model with respective number of topics\n",
    "    \"\"\"\n",
    "    coherence_values = []\n",
    "    model_list = []\n",
    "    for num_topics in range(start, limit, step):\n",
    "        model=LdaModel(corpus=corpus, id2word=dictionary, num_topics=num_topics)\n",
    "        model_list.append(model)\n",
    "        coherencemodel = CoherenceModel(model=model, texts=texts, dictionary=dictionary, coherence=coherence)\n",
    "        coherence_values.append(coherencemodel.get_coherence())\n",
    "\n",
    "    return model_list, coherence_values"
   ]
  },
  {
   "cell_type": "code",
   "execution_count": 19,
   "metadata": {},
   "outputs": [],
   "source": [
    "start = 5\n",
    "limit = 41\n",
    "step = 5\n",
    "\n",
    "try:\n",
    "    model_list, coherence_values_umass = compute_coherence_values(dictionary=dictionary, \n",
    "                                                        corpus=corpus, texts=posts['text'], \n",
    "                                                        start=start, limit=limit, step=step, coherence='u_mass')\n",
    "except Exception as e:\n",
    "    print(e)"
   ]
  },
  {
   "cell_type": "code",
   "execution_count": 22,
   "metadata": {},
   "outputs": [
    {
     "data": {
      "image/png": "[encoded data removed]",
      "text/plain": [
       "<Figure size 432x288 with 1 Axes>"
      ]
     },
     "metadata": {
      "needs_background": "light"
     },
     "output_type": "display_data"
    }
   ],
   "source": [
    "start = 5\n",
    "limit = 41\n",
    "step = 5\n",
    "# Show graph\n",
    "import matplotlib.pyplot as plt\n",
    "x = range(start, limit, step)\n",
    "plt.plot(x, coherence_values_umass)\n",
    "plt.xlabel(\"Num Topics\")\n",
    "plt.ylabel(\"Coherence score for u_mass\")\n",
    "plt.legend((\"coherence_values\"), loc='best')\n",
    "plt.show()"
   ]
  },
  {
   "cell_type": "code",
   "execution_count": 23,
   "metadata": {},
   "outputs": [
    {
     "ename": "NameError",
     "evalue": "name 'lda_model_tfidf' is not defined",
     "output_type": "error",
     "traceback": [
      "\u001b[0;31m---------------------------------------------------------------------------\u001b[0m",
      "\u001b[0;31mNameError\u001b[0m                                 Traceback (most recent call last)",
      "\u001b[0;32m<ipython-input-23-290cbf8c6346>\u001b[0m in \u001b[0;36m<module>\u001b[0;34m\u001b[0m\n\u001b[1;32m      8\u001b[0m                                            \u001b[0miterations\u001b[0m\u001b[0;34m=\u001b[0m\u001b[0;36m100\u001b[0m\u001b[0;34m,\u001b[0m\u001b[0;34m\u001b[0m\u001b[0;34m\u001b[0m\u001b[0m\n\u001b[1;32m      9\u001b[0m                                            per_word_topics=True)\n\u001b[0;32m---> 10\u001b[0;31m \u001b[0;32mfor\u001b[0m \u001b[0midx\u001b[0m\u001b[0;34m,\u001b[0m \u001b[0mtopic\u001b[0m \u001b[0;32min\u001b[0m \u001b[0mlda_model_tfidf\u001b[0m\u001b[0;34m.\u001b[0m\u001b[0mprint_topics\u001b[0m\u001b[0;34m(\u001b[0m\u001b[0;34m-\u001b[0m\u001b[0;36m1\u001b[0m\u001b[0;34m)\u001b[0m\u001b[0;34m:\u001b[0m\u001b[0;34m\u001b[0m\u001b[0;34m\u001b[0m\u001b[0m\n\u001b[0m\u001b[1;32m     11\u001b[0m     \u001b[0mprint\u001b[0m\u001b[0;34m(\u001b[0m\u001b[0;34m'Topic: {} \\nWords: {}'\u001b[0m\u001b[0;34m.\u001b[0m\u001b[0mformat\u001b[0m\u001b[0;34m(\u001b[0m\u001b[0midx\u001b[0m\u001b[0;34m,\u001b[0m \u001b[0mtopic\u001b[0m\u001b[0;34m)\u001b[0m\u001b[0;34m)\u001b[0m\u001b[0;34m\u001b[0m\u001b[0;34m\u001b[0m\u001b[0m\n",
      "\u001b[0;31mNameError\u001b[0m: name 'lda_model_tfidf' is not defined"
     ]
    }
   ],
   "source": [
    "#run LDA\n",
    "#change num_topics if want to change the number of topics generated\n",
    "lda_model = gensim.models.LdaModel(corpus, num_topics=20, id2word=dictionary, random_state=100,\n",
    "                                           update_every=1,\n",
    "                                           chunksize=10,\n",
    "                                           passes=10,\n",
    "                                           alpha='symmetric',\n",
    "                                           iterations=100,\n",
    "                                           per_word_topics=True)\n"
   ]
  },
  {
   "cell_type": "code",
   "execution_count": 24,
   "metadata": {},
   "outputs": [
    {
     "name": "stdout",
     "output_type": "stream",
     "text": [
      "Topic: 0 \n",
      "Words: 0.153*\"toilet\" + 0.146*\"fail\" + 0.133*\"singapor\" + 0.096*\"public\" + 0.062*\"flush\" + 0.024*\"see\" + 0.024*\"hotel\" + 0.018*\"illeg\" + 0.018*\"approach\" + 0.018*\"sensor\"\n",
      "Topic: 1 \n",
      "Words: 0.146*\"soap\" + 0.143*\"provid\" + 0.142*\"suspend\" + 0.105*\"kovan\" + 0.061*\"foodcourt\" + 0.059*\"popular\" + 0.027*\"food\" + 0.023*\"court\" + 0.010*\"coffe\" + 0.007*\"person\"\n",
      "Topic: 2 \n",
      "Words: 0.050*\"chines\" + 0.045*\"centr\" + 0.033*\"game\" + 0.024*\"siam\" + 0.021*\"human\" + 0.019*\"imin\" + 0.019*\"cool\" + 0.019*\"signag\" + 0.019*\"mgyy\" + 0.019*\"stuff\"\n",
      "Topic: 3 \n",
      "Words: 0.164*\"girl\" + 0.041*\"sign\" + 0.037*\"askatan\" + 0.037*\"hlmulgw\" + 0.037*\"日本じゃなくてよかった\" + 0.008*\"pergi\" + 0.006*\"senyap\" + 0.005*\"rooftopbar\" + 0.005*\"sgvbl\" + 0.005*\"queue\"\n",
      "Topic: 4 \n",
      "Words: 0.556*\"insid\" + 0.037*\"jack\" + 0.027*\"fact\" + 0.025*\"think\" + 0.025*\"founder\" + 0.010*\"borrow\" + 0.009*\"point\" + 0.008*\"local\" + 0.007*\"foundat\" + 0.006*\"build\"\n",
      "Topic: 5 \n",
      "Words: 0.174*\"todayonlin\" + 0.129*\"upper\" + 0.086*\"serangoon\" + 0.057*\"coffe\" + 0.029*\"appear\" + 0.023*\"foodcourt\" + 0.019*\"fin\" + 0.015*\"home\" + 0.013*\"right\" + 0.009*\"secret\"\n",
      "Topic: 6 \n",
      "Words: 0.046*\"paper\" + 0.035*\"peopl\" + 0.035*\"indian\" + 0.034*\"revolut\" + 0.023*\"paip\" + 0.022*\"litter\" + 0.016*\"singaporean\" + 0.016*\"wipe\" + 0.016*\"defec\" + 0.016*\"ass\"\n",
      "Topic: 7 \n",
      "Words: 0.048*\"organ\" + 0.035*\"year\" + 0.029*\"digniti\" + 0.027*\"custom\" + 0.026*\"support\" + 0.025*\"restroom\" + 0.024*\"wast\" + 0.022*\"run\" + 0.022*\"theurgentrun\" + 0.017*\"promot\"\n",
      "Topic: 8 \n",
      "Words: 0.102*\"singapor\" + 0.053*\"toilet\" + 0.046*\"reason\" + 0.028*\"work\" + 0.028*\"china\" + 0.026*\"asian\" + 0.026*\"airport\" + 0.022*\"worldtoiletday\" + 0.021*\"goal\" + 0.018*\"selfi\"\n",
      "Topic: 9 \n",
      "Words: 0.192*\"count\" + 0.055*\"time\" + 0.043*\"need\" + 0.043*\"talk\" + 0.027*\"australia\" + 0.024*\"effici\" + 0.024*\"listen\" + 0.024*\"podcast\" + 0.018*\"fixitcohost\" + 0.015*\"reduct\"\n",
      "Topic: 10 \n",
      "Words: 0.064*\"club\" + 0.051*\"door\" + 0.043*\"woman\" + 0.020*\"youtub\" + 0.020*\"recognis\" + 0.018*\"cubicl\" + 0.017*\"viva\" + 0.017*\"sober\" + 0.017*\"mothershipsg\" + 0.017*\"mistak\"\n",
      "Topic: 11 \n",
      "Words: 0.478*\"singapor\" + 0.077*\"masturb\" + 0.025*\"high\" + 0.014*\"airlin\" + 0.009*\"univers\" + 0.006*\"mjibv\" + 0.006*\"jxnf\" + 0.006*\"nqjkw\" + 0.006*\"plumber\" + 0.005*\"prefer\"\n",
      "Topic: 12 \n",
      "Words: 0.559*\"video\" + 0.051*\"shop\" + 0.012*\"know\" + 0.009*\"class\" + 0.009*\"separ\" + 0.009*\"occas\" + 0.008*\"malaysia\" + 0.008*\"toil\" + 0.007*\"cleanli\" + 0.006*\"place\"\n",
      "Topic: 13 \n",
      "Words: 0.153*\"tenant\" + 0.118*\"school\" + 0.078*\"fine\" + 0.046*\"jail\" + 0.034*\"catch\" + 0.030*\"receiv\" + 0.030*\"award\" + 0.015*\"urin\" + 0.014*\"polytechn\" + 0.014*\"nanyang\"\n",
      "Topic: 14 \n",
      "Words: 0.062*\"love\" + 0.055*\"toothi\" + 0.047*\"line\" + 0.031*\"great\" + 0.028*\"gorgeous\" + 0.028*\"forev\" + 0.028*\"rescu\" + 0.028*\"street\" + 0.027*\"cat_kapow\" + 0.025*\"hide\"\n",
      "Topic: 15 \n",
      "Words: 0.171*\"world\" + 0.069*\"film\" + 0.022*\"water\" + 0.021*\"urin\" + 0.019*\"recycl\" + 0.017*\"say\" + 0.015*\"spray\" + 0.014*\"countri\" + 0.014*\"resolut\" + 0.014*\"law\"\n",
      "Topic: 16 \n",
      "Words: 0.104*\"malay\" + 0.087*\"https\" + 0.041*\"leav\" + 0.030*\"asia\" + 0.025*\"come\" + 0.018*\"servic\" + 0.016*\"middl\" + 0.014*\"cloth\" + 0.014*\"recent\" + 0.014*\"happen\"\n",
      "Topic: 17 \n",
      "Words: 0.114*\"thomson\" + 0.114*\"shophous\" + 0.110*\"bowl\" + 0.110*\"python\" + 0.109*\"peek\" + 0.108*\"near\" + 0.108*\"plaza\" + 0.108*\"tpjyrbqpkv\" + 0.011*\"report\" + 0.009*\"canteen\"\n",
      "Topic: 18 \n",
      "Words: 0.101*\"look\" + 0.072*\"stcom\" + 0.033*\"like\" + 0.033*\"clean\" + 0.025*\"qxafhii\" + 0.022*\"nanyang\" + 0.022*\"polytechn\" + 0.018*\"urin\" + 0.013*\"subscrib\" + 0.011*\"sand\"\n",
      "Topic: 19 \n",
      "Words: 0.392*\"https\" + 0.345*\"toilet\" + 0.172*\"channelnewsasia\" + 0.001*\"andrew\" + 0.001*\"canteen\" + 0.001*\"injuri\" + 0.001*\"junior\" + 0.001*\"speak\" + 0.001*\"qxtwc\" + 0.001*\"sudden\"\n"
     ]
    }
   ],
   "source": [
    "for idx, topic in lda_model.print_topics(-1):\n",
    "    print('Topic: {} \\nWords: {}'.format(idx, topic))"
   ]
  }
 ],
 "metadata": {
  "kernelspec": {
   "display_name": "Python 3",
   "language": "python",
   "name": "python3"
  },
  "language_info": {
   "codemirror_mode": {
    "name": "ipython",
    "version": 3
   },
   "file_extension": ".py",
   "mimetype": "text/x-python",
   "name": "python",
   "nbconvert_exporter": "python",
   "pygments_lexer": "ipython3",
   "version": "3.7.1"
  }
 },
 "nbformat": 4,
 "nbformat_minor": 2
}
